{
 "cells": [
  {
   "cell_type": "markdown",
   "source": [
    "Loading the MNIST dataset in Keras"
   ],
   "metadata": {
    "collapsed": false
   },
   "id": "12c30ad44733e5a4"
  },
  {
   "cell_type": "code",
   "execution_count": 25,
   "outputs": [],
   "source": [
    "from tensorflow.keras.datasets import mnist\n",
    "(train_images, train_labels), (test_images, test_labels) = mnist.load_data()"
   ],
   "metadata": {
    "collapsed": false,
    "ExecuteTime": {
     "end_time": "2023-09-30T12:30:37.935175Z",
     "start_time": "2023-09-30T12:30:37.827679Z"
    }
   },
   "id": "e8dcdcdd894581d2"
  },
  {
   "cell_type": "code",
   "execution_count": 26,
   "outputs": [
    {
     "data": {
      "text/plain": "(60000, 28, 28)"
     },
     "execution_count": 26,
     "metadata": {},
     "output_type": "execute_result"
    }
   ],
   "source": [
    "train_images.shape"
   ],
   "metadata": {
    "collapsed": false,
    "ExecuteTime": {
     "end_time": "2023-09-30T12:30:38.450531Z",
     "start_time": "2023-09-30T12:30:38.443541Z"
    }
   },
   "id": "f029cbc13bbc7959"
  },
  {
   "cell_type": "code",
   "execution_count": 27,
   "outputs": [
    {
     "data": {
      "text/plain": "60000"
     },
     "execution_count": 27,
     "metadata": {},
     "output_type": "execute_result"
    }
   ],
   "source": [
    "len(train_labels)"
   ],
   "metadata": {
    "collapsed": false,
    "ExecuteTime": {
     "end_time": "2023-09-30T12:30:38.960911Z",
     "start_time": "2023-09-30T12:30:38.954098Z"
    }
   },
   "id": "f1f1819fad7c308a"
  },
  {
   "cell_type": "code",
   "execution_count": 28,
   "outputs": [
    {
     "data": {
      "text/plain": "array([5, 0, 4, ..., 5, 6, 8], dtype=uint8)"
     },
     "execution_count": 28,
     "metadata": {},
     "output_type": "execute_result"
    }
   ],
   "source": [
    "train_labels"
   ],
   "metadata": {
    "collapsed": false,
    "ExecuteTime": {
     "end_time": "2023-09-30T12:30:39.594455Z",
     "start_time": "2023-09-30T12:30:39.587679Z"
    }
   },
   "id": "fa5274ba56d8e60"
  },
  {
   "cell_type": "code",
   "execution_count": 29,
   "outputs": [
    {
     "data": {
      "text/plain": "(10000, 28, 28)"
     },
     "execution_count": 29,
     "metadata": {},
     "output_type": "execute_result"
    }
   ],
   "source": [
    "test_images.shape"
   ],
   "metadata": {
    "collapsed": false,
    "ExecuteTime": {
     "end_time": "2023-09-30T12:30:40.173653Z",
     "start_time": "2023-09-30T12:30:40.168648Z"
    }
   },
   "id": "d7d08ddab59c028d"
  },
  {
   "cell_type": "code",
   "execution_count": 30,
   "outputs": [
    {
     "data": {
      "text/plain": "10000"
     },
     "execution_count": 30,
     "metadata": {},
     "output_type": "execute_result"
    }
   ],
   "source": [
    "len(test_labels)"
   ],
   "metadata": {
    "collapsed": false,
    "ExecuteTime": {
     "end_time": "2023-09-30T12:30:40.724713Z",
     "start_time": "2023-09-30T12:30:40.718717Z"
    }
   },
   "id": "4005de4f42085ec0"
  },
  {
   "cell_type": "code",
   "execution_count": 31,
   "outputs": [
    {
     "data": {
      "text/plain": "array([7, 2, 1, ..., 4, 5, 6], dtype=uint8)"
     },
     "execution_count": 31,
     "metadata": {},
     "output_type": "execute_result"
    }
   ],
   "source": [
    "test_labels"
   ],
   "metadata": {
    "collapsed": false,
    "ExecuteTime": {
     "end_time": "2023-09-30T12:30:41.257392Z",
     "start_time": "2023-09-30T12:30:41.250884Z"
    }
   },
   "id": "c3abeeced6aa628f"
  },
  {
   "cell_type": "markdown",
   "source": [
    "The network architecture"
   ],
   "metadata": {
    "collapsed": false
   },
   "id": "3f495e329299f29a"
  },
  {
   "cell_type": "code",
   "execution_count": 32,
   "outputs": [],
   "source": [
    "from tensorflow import keras\n",
    "from tensorflow.keras import layers\n",
    "model = keras.Sequential([\n",
    "    layers.Dense(512, activation=\"relu\"),\n",
    "    layers.Dense(10, activation=\"softmax\")\n",
    "])"
   ],
   "metadata": {
    "collapsed": false,
    "ExecuteTime": {
     "end_time": "2023-09-30T12:30:42.296052Z",
     "start_time": "2023-09-30T12:30:42.291272Z"
    }
   },
   "id": "448d6d37f880553a"
  },
  {
   "cell_type": "markdown",
   "source": [
    "The compilation step"
   ],
   "metadata": {
    "collapsed": false
   },
   "id": "6ca016944f46b09a"
  },
  {
   "cell_type": "code",
   "execution_count": 33,
   "outputs": [],
   "source": [
    "model.compile(optimizer=\"rmsprop\",\n",
    "              loss=\"sparse_categorical_crossentropy\",\n",
    "              metrics=[\"accuracy\"])"
   ],
   "metadata": {
    "collapsed": false,
    "ExecuteTime": {
     "end_time": "2023-09-30T12:30:43.542414Z",
     "start_time": "2023-09-30T12:30:43.538312Z"
    }
   },
   "id": "ed7ca72abfde61c4"
  },
  {
   "cell_type": "markdown",
   "source": [
    "Preparing the image data"
   ],
   "metadata": {
    "collapsed": false
   },
   "id": "c9e525af3d90865e"
  },
  {
   "cell_type": "code",
   "execution_count": 34,
   "outputs": [],
   "source": [
    "train_images = train_images.reshape((60000, 28 * 28))\n",
    "train_images = train_images.astype(\"float32\") / 255\n",
    "test_images = test_images.reshape((10000, 28 * 28))\n",
    "test_images = test_images.astype(\"float32\") / 255"
   ],
   "metadata": {
    "collapsed": false,
    "ExecuteTime": {
     "end_time": "2023-09-30T12:30:45.372962Z",
     "start_time": "2023-09-30T12:30:45.301618Z"
    }
   },
   "id": "32791e4b94651fc5"
  },
  {
   "cell_type": "markdown",
   "source": [
    "\"Fitting\" the model"
   ],
   "metadata": {
    "collapsed": false
   },
   "id": "f1abc0e21ea0ce8b"
  },
  {
   "cell_type": "code",
   "execution_count": 35,
   "outputs": [
    {
     "name": "stdout",
     "output_type": "stream",
     "text": [
      "Epoch 1/5\n",
      "469/469 [==============================] - 2s 4ms/step - loss: 0.2574 - accuracy: 0.9256\n",
      "Epoch 2/5\n",
      "469/469 [==============================] - 2s 4ms/step - loss: 0.1045 - accuracy: 0.9695\n",
      "Epoch 3/5\n",
      "469/469 [==============================] - 2s 4ms/step - loss: 0.0676 - accuracy: 0.9801\n",
      "Epoch 4/5\n",
      "469/469 [==============================] - 2s 5ms/step - loss: 0.0498 - accuracy: 0.9854\n",
      "Epoch 5/5\n",
      "469/469 [==============================] - 2s 4ms/step - loss: 0.0376 - accuracy: 0.9889\n"
     ]
    },
    {
     "data": {
      "text/plain": "<keras.src.callbacks.History at 0x16acfc190>"
     },
     "execution_count": 35,
     "metadata": {},
     "output_type": "execute_result"
    }
   ],
   "source": [
    "model.fit(train_images, train_labels, epochs=5, batch_size=128)"
   ],
   "metadata": {
    "collapsed": false,
    "ExecuteTime": {
     "end_time": "2023-09-30T12:30:57.163028Z",
     "start_time": "2023-09-30T12:30:46.468039Z"
    }
   },
   "id": "d86ab280077ffa0f"
  },
  {
   "cell_type": "markdown",
   "source": [
    "Using the model to make predictions"
   ],
   "metadata": {
    "collapsed": false
   },
   "id": "e6da62ceff7b63aa"
  },
  {
   "cell_type": "code",
   "execution_count": 36,
   "outputs": [
    {
     "name": "stdout",
     "output_type": "stream",
     "text": [
      "1/1 [==============================] - 0s 31ms/step\n"
     ]
    },
    {
     "data": {
      "text/plain": "array([3.2509075e-09, 4.4044674e-11, 1.2272695e-06, 2.1889403e-04,\n       1.1186543e-11, 8.2000319e-08, 8.7055963e-15, 9.9977773e-01,\n       5.0178496e-08, 1.9367353e-06], dtype=float32)"
     },
     "execution_count": 36,
     "metadata": {},
     "output_type": "execute_result"
    }
   ],
   "source": [
    "test_digits = test_images[0:10]\n",
    "predictions = model.predict(test_digits)\n",
    "predictions[0]"
   ],
   "metadata": {
    "collapsed": false,
    "ExecuteTime": {
     "end_time": "2023-09-30T12:30:58.489032Z",
     "start_time": "2023-09-30T12:30:58.427630Z"
    }
   },
   "id": "44dcefc6273bd85a"
  },
  {
   "cell_type": "code",
   "execution_count": 37,
   "outputs": [
    {
     "data": {
      "text/plain": "7"
     },
     "execution_count": 37,
     "metadata": {},
     "output_type": "execute_result"
    }
   ],
   "source": [
    "predictions[0].argmax()"
   ],
   "metadata": {
    "collapsed": false,
    "ExecuteTime": {
     "end_time": "2023-09-30T12:30:58.860907Z",
     "start_time": "2023-09-30T12:30:58.854073Z"
    }
   },
   "id": "5542ddac79919ad0"
  },
  {
   "cell_type": "code",
   "execution_count": 38,
   "outputs": [
    {
     "data": {
      "text/plain": "0.99977773"
     },
     "execution_count": 38,
     "metadata": {},
     "output_type": "execute_result"
    }
   ],
   "source": [
    "predictions[0][7]"
   ],
   "metadata": {
    "collapsed": false,
    "ExecuteTime": {
     "end_time": "2023-09-30T12:30:59.277595Z",
     "start_time": "2023-09-30T12:30:59.273086Z"
    }
   },
   "id": "3ae57e17f7db8a5d"
  },
  {
   "cell_type": "code",
   "execution_count": 39,
   "outputs": [
    {
     "data": {
      "text/plain": "7"
     },
     "execution_count": 39,
     "metadata": {},
     "output_type": "execute_result"
    }
   ],
   "source": [
    "test_labels[0]"
   ],
   "metadata": {
    "collapsed": false,
    "ExecuteTime": {
     "end_time": "2023-09-30T12:30:59.757284Z",
     "start_time": "2023-09-30T12:30:59.751102Z"
    }
   },
   "id": "b6fb79ce159882c2"
  },
  {
   "cell_type": "markdown",
   "source": [
    "Evaluating the model on new data"
   ],
   "metadata": {
    "collapsed": false
   },
   "id": "74804222b882d772"
  },
  {
   "cell_type": "code",
   "execution_count": 40,
   "outputs": [
    {
     "name": "stdout",
     "output_type": "stream",
     "text": [
      "313/313 [==============================] - 0s 927us/step - loss: 0.0622 - accuracy: 0.9809\n",
      "test_acc: 0.98089998960495\n"
     ]
    }
   ],
   "source": [
    "test_loss, test_acc = model.evaluate(test_images, test_labels)\n",
    "print(f\"test_acc: {test_acc}\")"
   ],
   "metadata": {
    "collapsed": false,
    "ExecuteTime": {
     "end_time": "2023-09-30T12:31:01.034316Z",
     "start_time": "2023-09-30T12:31:00.653672Z"
    }
   },
   "id": "39b0e4a9912ec6ff"
  }
 ],
 "metadata": {
  "kernelspec": {
   "display_name": "Python 3",
   "language": "python",
   "name": "python3"
  },
  "language_info": {
   "codemirror_mode": {
    "name": "ipython",
    "version": 2
   },
   "file_extension": ".py",
   "mimetype": "text/x-python",
   "name": "python",
   "nbconvert_exporter": "python",
   "pygments_lexer": "ipython2",
   "version": "2.7.6"
  }
 },
 "nbformat": 4,
 "nbformat_minor": 5
}
