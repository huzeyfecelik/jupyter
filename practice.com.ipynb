{
 "cells": [
  {
   "cell_type": "markdown",
   "source": [
    "**Loading the MNIST dataset in Keras**"
   ],
   "metadata": {
    "collapsed": false
   },
   "id": "12c30ad44733e5a4"
  },
  {
   "cell_type": "code",
   "execution_count": 52,
   "outputs": [],
   "source": [
    "from tensorflow.keras.datasets import mnist\n",
    "(train_images, train_labels), (test_images, test_labels) = mnist.load_data()"
   ],
   "metadata": {
    "collapsed": false,
    "ExecuteTime": {
     "end_time": "2023-09-30T12:37:22.368280Z",
     "start_time": "2023-09-30T12:37:22.238540Z"
    }
   },
   "id": "e8dcdcdd894581d2"
  },
  {
   "cell_type": "code",
   "execution_count": 53,
   "outputs": [
    {
     "data": {
      "text/plain": "(60000, 28, 28)"
     },
     "execution_count": 53,
     "metadata": {},
     "output_type": "execute_result"
    }
   ],
   "source": [
    "train_images.shape"
   ],
   "metadata": {
    "collapsed": false,
    "ExecuteTime": {
     "end_time": "2023-09-30T12:37:23.013438Z",
     "start_time": "2023-09-30T12:37:23.006556Z"
    }
   },
   "id": "f029cbc13bbc7959"
  },
  {
   "cell_type": "code",
   "execution_count": 54,
   "outputs": [
    {
     "data": {
      "text/plain": "60000"
     },
     "execution_count": 54,
     "metadata": {},
     "output_type": "execute_result"
    }
   ],
   "source": [
    "len(train_labels)"
   ],
   "metadata": {
    "collapsed": false,
    "ExecuteTime": {
     "end_time": "2023-09-30T12:37:23.671104Z",
     "start_time": "2023-09-30T12:37:23.663610Z"
    }
   },
   "id": "f1f1819fad7c308a"
  },
  {
   "cell_type": "code",
   "execution_count": 55,
   "outputs": [
    {
     "data": {
      "text/plain": "array([5, 0, 4, ..., 5, 6, 8], dtype=uint8)"
     },
     "execution_count": 55,
     "metadata": {},
     "output_type": "execute_result"
    }
   ],
   "source": [
    "train_labels"
   ],
   "metadata": {
    "collapsed": false,
    "ExecuteTime": {
     "end_time": "2023-09-30T12:37:24.279119Z",
     "start_time": "2023-09-30T12:37:24.272044Z"
    }
   },
   "id": "fa5274ba56d8e60"
  },
  {
   "cell_type": "code",
   "execution_count": 56,
   "outputs": [
    {
     "data": {
      "text/plain": "(10000, 28, 28)"
     },
     "execution_count": 56,
     "metadata": {},
     "output_type": "execute_result"
    }
   ],
   "source": [
    "test_images.shape"
   ],
   "metadata": {
    "collapsed": false,
    "ExecuteTime": {
     "end_time": "2023-09-30T12:37:25.034585Z",
     "start_time": "2023-09-30T12:37:25.028805Z"
    }
   },
   "id": "d7d08ddab59c028d"
  },
  {
   "cell_type": "code",
   "execution_count": 57,
   "outputs": [
    {
     "data": {
      "text/plain": "10000"
     },
     "execution_count": 57,
     "metadata": {},
     "output_type": "execute_result"
    }
   ],
   "source": [
    "len(test_labels)"
   ],
   "metadata": {
    "collapsed": false,
    "ExecuteTime": {
     "end_time": "2023-09-30T12:37:25.741633Z",
     "start_time": "2023-09-30T12:37:25.735259Z"
    }
   },
   "id": "4005de4f42085ec0"
  },
  {
   "cell_type": "code",
   "execution_count": 58,
   "outputs": [
    {
     "data": {
      "text/plain": "array([7, 2, 1, ..., 4, 5, 6], dtype=uint8)"
     },
     "execution_count": 58,
     "metadata": {},
     "output_type": "execute_result"
    }
   ],
   "source": [
    "test_labels"
   ],
   "metadata": {
    "collapsed": false,
    "ExecuteTime": {
     "end_time": "2023-09-30T12:37:26.417089Z",
     "start_time": "2023-09-30T12:37:26.408085Z"
    }
   },
   "id": "c3abeeced6aa628f"
  },
  {
   "cell_type": "markdown",
   "source": [
    "**The network architecture**"
   ],
   "metadata": {
    "collapsed": false
   },
   "id": "3f495e329299f29a"
  },
  {
   "cell_type": "code",
   "execution_count": 59,
   "outputs": [],
   "source": [
    "from tensorflow import keras\n",
    "from tensorflow.keras import layers\n",
    "model = keras.Sequential([\n",
    "    layers.Dense(512, activation=\"relu\"),\n",
    "    layers.Dense(10, activation=\"softmax\")\n",
    "])"
   ],
   "metadata": {
    "collapsed": false,
    "ExecuteTime": {
     "end_time": "2023-09-30T12:37:28.753203Z",
     "start_time": "2023-09-30T12:37:28.748399Z"
    }
   },
   "id": "448d6d37f880553a"
  },
  {
   "cell_type": "markdown",
   "source": [
    "**The compilation step**"
   ],
   "metadata": {
    "collapsed": false
   },
   "id": "6ca016944f46b09a"
  },
  {
   "cell_type": "code",
   "execution_count": 60,
   "outputs": [],
   "source": [
    "model.compile(optimizer=\"rmsprop\",\n",
    "              loss=\"sparse_categorical_crossentropy\",\n",
    "              metrics=[\"accuracy\"])"
   ],
   "metadata": {
    "collapsed": false,
    "ExecuteTime": {
     "end_time": "2023-09-30T12:37:30.812591Z",
     "start_time": "2023-09-30T12:37:30.807227Z"
    }
   },
   "id": "ed7ca72abfde61c4"
  },
  {
   "cell_type": "markdown",
   "source": [
    "**Preparing the image data**"
   ],
   "metadata": {
    "collapsed": false
   },
   "id": "c9e525af3d90865e"
  },
  {
   "cell_type": "code",
   "execution_count": 61,
   "outputs": [],
   "source": [
    "train_images = train_images.reshape((60000, 28 * 28))\n",
    "train_images = train_images.astype(\"float32\") / 255\n",
    "test_images = test_images.reshape((10000, 28 * 28))\n",
    "test_images = test_images.astype(\"float32\") / 255"
   ],
   "metadata": {
    "collapsed": false,
    "ExecuteTime": {
     "end_time": "2023-09-30T12:37:32.379928Z",
     "start_time": "2023-09-30T12:37:32.324237Z"
    }
   },
   "id": "32791e4b94651fc5"
  },
  {
   "cell_type": "markdown",
   "source": [
    "**\"Fitting\" the model**"
   ],
   "metadata": {
    "collapsed": false
   },
   "id": "f1abc0e21ea0ce8b"
  },
  {
   "cell_type": "code",
   "execution_count": 62,
   "outputs": [
    {
     "name": "stdout",
     "output_type": "stream",
     "text": [
      "Epoch 1/5\n",
      "469/469 [==============================] - 2s 4ms/step - loss: 0.2554 - accuracy: 0.9259\n",
      "Epoch 2/5\n",
      "469/469 [==============================] - 2s 4ms/step - loss: 0.1031 - accuracy: 0.9697\n",
      "Epoch 3/5\n",
      "469/469 [==============================] - 2s 4ms/step - loss: 0.0687 - accuracy: 0.9793\n",
      "Epoch 4/5\n",
      "469/469 [==============================] - 2s 5ms/step - loss: 0.0494 - accuracy: 0.9850\n",
      "Epoch 5/5\n",
      "469/469 [==============================] - 2s 4ms/step - loss: 0.0378 - accuracy: 0.9886\n"
     ]
    },
    {
     "data": {
      "text/plain": "<keras.src.callbacks.History at 0x16b040790>"
     },
     "execution_count": 62,
     "metadata": {},
     "output_type": "execute_result"
    }
   ],
   "source": [
    "model.fit(train_images, train_labels, epochs=5, batch_size=128)"
   ],
   "metadata": {
    "collapsed": false,
    "ExecuteTime": {
     "end_time": "2023-09-30T12:37:44.191609Z",
     "start_time": "2023-09-30T12:37:33.736901Z"
    }
   },
   "id": "d86ab280077ffa0f"
  },
  {
   "cell_type": "markdown",
   "source": [
    "**Using the model to make predictions**"
   ],
   "metadata": {
    "collapsed": false
   },
   "id": "e6da62ceff7b63aa"
  },
  {
   "cell_type": "code",
   "execution_count": 63,
   "outputs": [
    {
     "name": "stdout",
     "output_type": "stream",
     "text": [
      "1/1 [==============================] - 0s 26ms/step\n"
     ]
    },
    {
     "data": {
      "text/plain": "array([1.7467318e-08, 4.4513098e-11, 2.9442881e-06, 4.6401354e-05,\n       5.6207128e-13, 2.4515968e-08, 4.5505392e-14, 9.9995029e-01,\n       1.0706297e-07, 2.4334477e-07], dtype=float32)"
     },
     "execution_count": 63,
     "metadata": {},
     "output_type": "execute_result"
    }
   ],
   "source": [
    "test_digits = test_images[0:10]\n",
    "predictions = model.predict(test_digits)\n",
    "predictions[0]"
   ],
   "metadata": {
    "collapsed": false,
    "ExecuteTime": {
     "end_time": "2023-09-30T12:37:51.436006Z",
     "start_time": "2023-09-30T12:37:51.378924Z"
    }
   },
   "id": "44dcefc6273bd85a"
  },
  {
   "cell_type": "code",
   "execution_count": 64,
   "outputs": [
    {
     "data": {
      "text/plain": "7"
     },
     "execution_count": 64,
     "metadata": {},
     "output_type": "execute_result"
    }
   ],
   "source": [
    "predictions[0].argmax()"
   ],
   "metadata": {
    "collapsed": false,
    "ExecuteTime": {
     "end_time": "2023-09-30T12:37:53.127977Z",
     "start_time": "2023-09-30T12:37:53.121760Z"
    }
   },
   "id": "5542ddac79919ad0"
  },
  {
   "cell_type": "code",
   "execution_count": 65,
   "outputs": [
    {
     "data": {
      "text/plain": "0.9999503"
     },
     "execution_count": 65,
     "metadata": {},
     "output_type": "execute_result"
    }
   ],
   "source": [
    "predictions[0][7]"
   ],
   "metadata": {
    "collapsed": false,
    "ExecuteTime": {
     "end_time": "2023-09-30T12:37:54.724705Z",
     "start_time": "2023-09-30T12:37:54.718782Z"
    }
   },
   "id": "3ae57e17f7db8a5d"
  },
  {
   "cell_type": "code",
   "execution_count": 66,
   "outputs": [
    {
     "data": {
      "text/plain": "7"
     },
     "execution_count": 66,
     "metadata": {},
     "output_type": "execute_result"
    }
   ],
   "source": [
    "test_labels[0]"
   ],
   "metadata": {
    "collapsed": false,
    "ExecuteTime": {
     "end_time": "2023-09-30T12:37:55.873707Z",
     "start_time": "2023-09-30T12:37:55.865683Z"
    }
   },
   "id": "b6fb79ce159882c2"
  },
  {
   "cell_type": "markdown",
   "source": [
    "**Evaluating the model on new data**"
   ],
   "metadata": {
    "collapsed": false
   },
   "id": "74804222b882d772"
  },
  {
   "cell_type": "code",
   "execution_count": 67,
   "outputs": [
    {
     "name": "stdout",
     "output_type": "stream",
     "text": [
      "313/313 [==============================] - 0s 906us/step - loss: 0.0642 - accuracy: 0.9807\n",
      "test_acc: 0.9807000160217285\n"
     ]
    }
   ],
   "source": [
    "test_loss, test_acc = model.evaluate(test_images, test_labels)\n",
    "print(f\"test_acc: {test_acc}\")"
   ],
   "metadata": {
    "collapsed": false,
    "ExecuteTime": {
     "end_time": "2023-09-30T12:37:58.227353Z",
     "start_time": "2023-09-30T12:37:57.842590Z"
    }
   },
   "id": "39b0e4a9912ec6ff"
  }
 ],
 "metadata": {
  "kernelspec": {
   "display_name": "Python 3",
   "language": "python",
   "name": "python3"
  },
  "language_info": {
   "codemirror_mode": {
    "name": "ipython",
    "version": 2
   },
   "file_extension": ".py",
   "mimetype": "text/x-python",
   "name": "python",
   "nbconvert_exporter": "python",
   "pygments_lexer": "ipython2",
   "version": "2.7.6"
  }
 },
 "nbformat": 4,
 "nbformat_minor": 5
}
